{
  "nbformat": 4,
  "nbformat_minor": 0,
  "metadata": {
    "colab": {
      "provenance": []
    },
    "kernelspec": {
      "name": "python3",
      "display_name": "Python 3"
    },
    "language_info": {
      "name": "python"
    }
  },
  "cells": [
    {
      "cell_type": "markdown",
      "source": [
        "1.Import the sales_add.csv file "
      ],
      "metadata": {
        "id": "8zdjdddtuGzO"
      }
    },
    {
      "cell_type": "code",
      "execution_count": 8,
      "metadata": {
        "id": "RSQv5FGlt8hL"
      },
      "outputs": [],
      "source": [
        "import pandas as pd\n",
        "from scipy.stats import ttest_ind, chi2_contingency\n",
        "\n",
        "sales_data = pd.read_csv('Sales_add.csv')"
      ]
    },
    {
      "cell_type": "markdown",
      "source": [
        "2. Clean and preprocess the data by removing any missing or invalid values"
      ],
      "metadata": {
        "id": "76PWnG1SvT1q"
      }
    },
    {
      "cell_type": "code",
      "source": [
        "\n",
        "sales_data.dropna(inplace=True)\n",
        "\n",
        "\n",
        "sales_data['Region'] = pd.Categorical(sales_data['Region'])\n",
        "\n",
        "\n",
        "sales_data['Manager'] = pd.Categorical(sales_data['Manager'])"
      ],
      "metadata": {
        "id": "cn9kOCKTuWgH"
      },
      "execution_count": 9,
      "outputs": []
    },
    {
      "cell_type": "markdown",
      "source": [
        "3. Calculate the average sales before and after digital marketing"
      ],
      "metadata": {
        "id": "nDgM8Hq-vkUr"
      }
    },
    {
      "cell_type": "code",
      "source": [
        "\n",
        "avg_sales_before = sales_data[\"Sales_before_digital_add(in $)\"].mean()\n",
        "avg_sales_after = sales_data[\"Sales_After_digital_add(in $)\"].mean()\n",
        "print(\"Average sales before digital marketing:\", avg_sales_before)\n",
        "print(\"Average sales after digital marketing:\", avg_sales_after)\n"
      ],
      "metadata": {
        "colab": {
          "base_uri": "https://localhost:8080/"
        },
        "id": "05I6VBwvve-o",
        "outputId": "93c27d68-3df7-47a8-e519-60d1fb5c7ce7"
      },
      "execution_count": 11,
      "outputs": [
        {
          "output_type": "stream",
          "name": "stdout",
          "text": [
            "Average sales before digital marketing: 149239.95454545456\n",
            "Average sales after digital marketing: 231123.72727272726\n"
          ]
        }
      ]
    },
    {
      "cell_type": "markdown",
      "source": [
        "4. Check the dependency between Region and Manager"
      ],
      "metadata": {
        "id": "ZPZ_LoS8zChG"
      }
    },
    {
      "cell_type": "code",
      "source": [
        "region_manager_dependency = pd.crosstab(sales_data[\"Region\"], sales_data[\"Manager\"])\n",
        "print(region_manager_dependency)\n"
      ],
      "metadata": {
        "colab": {
          "base_uri": "https://localhost:8080/"
        },
        "id": "EXwE2asWvtVl",
        "outputId": "b1109d4e-d65a-49df-af7d-905865e63f2d"
      },
      "execution_count": 12,
      "outputs": [
        {
          "output_type": "stream",
          "name": "stdout",
          "text": [
            "Manager     Manager - A  Manager - B  Manager - C\n",
            "Region                                           \n",
            "Region - A            4            3            3\n",
            "Region - B            4            1            2\n",
            "Region - C            1            3            1\n"
          ]
        }
      ]
    },
    {
      "cell_type": "code",
      "source": [],
      "metadata": {
        "id": "8nblfBvLzO26"
      },
      "execution_count": null,
      "outputs": []
    }
  ]
}